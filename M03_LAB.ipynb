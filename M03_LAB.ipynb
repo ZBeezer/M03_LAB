{
 "cells": [
  {
   "cell_type": "code",
   "execution_count": 1,
   "id": "969f31d5-8662-4b4d-a611-7bb4f433c4bc",
   "metadata": {},
   "outputs": [
    {
     "name": "stdout",
     "output_type": "stream",
     "text": [
      "Please enter the details of your car.\n"
     ]
    },
    {
     "name": "stdin",
     "output_type": "stream",
     "text": [
      "Enter the year:  2019\n",
      "Enter the make:  NISSAN\n",
      "Enter the model:  VERSA\n",
      "Enter the number of doors (2 or 4):  4\n",
      "Enter the type of roof (solid or sun roof):  SOLID\n"
     ]
    },
    {
     "name": "stdout",
     "output_type": "stream",
     "text": [
      "\n",
      "Vehicle type: car\n",
      "Year: 2019\n",
      "Make: NISSAN\n",
      "Model: VERSA\n",
      "Number of doors: 4\n",
      "Type of roof: SOLID\n"
     ]
    }
   ],
   "source": [
    "#Zachary Beasley\n",
    "#M03Lab.py\n",
    "#This program receives descriptors from the user (year, make, model, # of doors, roof type) and builds an automobile out of the inputted descriptors\n",
    "\n",
    "class Vehicle:\n",
    "    def __init__(self, vehicle_type):\n",
    "        self.vehicle_type = vehicle_type\n",
    "\n",
    "\n",
    "class Automobile(Vehicle):\n",
    "    def __init__(self, year, make, model, doors, roof):\n",
    "        super().__init__(\"car\")\n",
    "        self.year = year\n",
    "        self.make = make\n",
    "        self.model = model\n",
    "        self.doors = doors\n",
    "        self.roof = roof\n",
    "\n",
    "\n",
    "def main():\n",
    "    print(\"Please enter the details of your car.\")\n",
    "    \n",
    "    #receive inputs from user\n",
    "    year_input = input(\"Enter the year: \")\n",
    "    make_input = input(\"Enter the make: \")\n",
    "    model_input = input(\"Enter the model: \")\n",
    "    doors_input = input(\"Enter the number of doors (2 or 4): \")\n",
    "    roof_input = input(\"Enter the type of roof (solid or sun roof): \")\n",
    "\n",
    "    #convert year and doors to integers\n",
    "    try:\n",
    "        year = int(year_input)\n",
    "    except ValueError:\n",
    "        print(\"Invalid input for year.\")\n",
    "        return\n",
    "\n",
    "    try:\n",
    "        doors = int(doors_input)\n",
    "        if doors not in (2, 4):\n",
    "            print(\"Invalid number of doors. Must be 2 or 4.\")\n",
    "            return\n",
    "    except ValueError:\n",
    "        print(\"Invalid input for doors. Please enter 2 or 4\")\n",
    "        return\n",
    "\n",
    "    #validate the roof input\n",
    "    if roof_input.lower() not in [\"solid\", \"sun roof\"]:\n",
    "        print(\"Invalid roof type. Must be a solid roof or sun roof.\")\n",
    "        return\n",
    "\n",
    "    #create an Automobile with the user input\n",
    "    car = Automobile(year, make_input, model_input, doors, roof_input)\n",
    "\n",
    "    #print the stored data in the requested format\n",
    "    print(\"\\nVehicle type: {}\".format(car.vehicle_type))\n",
    "    print(\"Year: {}\".format(car.year))\n",
    "    print(\"Make: {}\".format(car.make))\n",
    "    print(\"Model: {}\".format(car.model))\n",
    "    print(\"Number of doors: {}\".format(car.doors))\n",
    "    print(\"Type of roof: {}\".format(car.roof))\n",
    "\n",
    "\n",
    "if __name__ == \"__main__\":\n",
    "    main()\n"
   ]
  },
  {
   "cell_type": "code",
   "execution_count": null,
   "id": "6f411cc8-1e0c-4379-9fd4-934c3ab27cb6",
   "metadata": {},
   "outputs": [],
   "source": []
  }
 ],
 "metadata": {
  "kernelspec": {
   "display_name": "Python 3 (ipykernel)",
   "language": "python",
   "name": "python3"
  },
  "language_info": {
   "codemirror_mode": {
    "name": "ipython",
    "version": 3
   },
   "file_extension": ".py",
   "mimetype": "text/x-python",
   "name": "python",
   "nbconvert_exporter": "python",
   "pygments_lexer": "ipython3",
   "version": "3.11.7"
  }
 },
 "nbformat": 4,
 "nbformat_minor": 5
}
